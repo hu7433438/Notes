{
 "cells": [
  {
   "cell_type": "markdown",
   "id": "c316c97bcc2beeba",
   "metadata": {},
   "source": [
    "# Total Variation Distance\n",
    "## Definition\n",
    "\n",
    "Let $P$ and $Q$ be probability measures with a discrete sample space $E$ and probability mass functions $f$ and $g$. Then, the total variation distance between $P$ and $Q$:$$\\text {TV}(\\mathbf{P}, \\mathbf{Q}) = {\\max _{A \\subset E}}| \\mathbf{P}(A) - \\mathbf{Q}(A) |$$\n",
    "can be computed as$$\\text {TV}(\\mathbf{P}, \\mathbf{Q}) = \\frac{1}{2} \\, \\sum _{x \\in E} |f(x) - g(x)|$$\n",
    "Let $P$ and $Q$ be probability distributions on a continuous sample space $E$ with probability density functions $f$ and $g$. Then, the total variation distance between $P$ and $Q$ $$\\text {TV}(\\mathbf{P}, \\mathbf{Q}) = {\\max _{A \\subset E}}| \\mathbf{P}(A) - \\mathbf{Q}(A) |$$\n",
    "can be computed as$$\\text {TV}(\\mathbf{P}, \\mathbf{Q}) = \\frac{1}{2} \\, \\int  _{x \\in E} |f(x) - g(x)|~ \\text {d}x$$\n",
    "\n",
    "## Properties\n",
    "$TV(\\mathbf{P}, \\mathbf{Q}) = TV(\\mathbf{Q}, \\mathbf{P})$ (symmetric)  \n",
    "$TV(\\mathbf{P}, \\mathbf{Q}) \\geq 0$ (nonnegative)  \n",
    "$TV(\\mathbf{P}, \\mathbf{Q}) = 0 \\iff \\mathbf{P}= \\mathbf{Q}$(definite)  \n",
    "$TV(\\mathbf{P}, \\mathbf{V}) \\leq TV(\\mathbf{P}, \\mathbf{Q}) + TV(\\mathbf{Q}, \\mathbf{V})$(triangle inequality)\n",
    "\n"
   ]
  },
  {
   "cell_type": "code",
   "execution_count": null,
   "id": "18db761eeb215833",
   "metadata": {
    "ExecuteTime": {
     "end_time": "2024-10-01T23:31:59.865668Z",
     "start_time": "2024-10-01T23:31:59.853333Z"
    }
   },
   "outputs": [],
   "source": []
  }
 ],
 "metadata": {
  "kernelspec": {
   "display_name": "Python 3 (ipykernel)",
   "language": "python",
   "name": "python3"
  },
  "language_info": {
   "codemirror_mode": {
    "name": "ipython",
    "version": 3
   },
   "file_extension": ".py",
   "mimetype": "text/x-python",
   "name": "python",
   "nbconvert_exporter": "python",
   "pygments_lexer": "ipython3",
   "version": "3.8.10"
  }
 },
 "nbformat": 4,
 "nbformat_minor": 5
}

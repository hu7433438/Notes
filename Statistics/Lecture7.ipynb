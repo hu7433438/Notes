{
 "cells": [
  {
   "metadata": {},
   "cell_type": "markdown",
   "source": [
    "# Likelihood of a Gaussian Statistical Model\n",
    "Let $X_1, \\ldots , X_ n \\stackrel{iid}{\\sim } N(\\mu ^*, (\\sigma ^*)^2)$  for some unknown $\\mu ^* \\in \\mathbb {R}, (\\sigma ^*)^2 > 0$. You construct the associated statistical model $\\displaystyle \\left(\\mathbb {R}, \\{ N(\\mu , \\sigma ^2)\\} _{(\\mu , \\sigma ^2) \\in \\mathbb {R} \\times (0, \\infty )}\\right)$.    \n",
    "1.The likelihood of this model is:$$L_ n\\left(x_1, \\ldots , x_ n, (\\mu , \\sigma ^2)\\right) = \\frac{1}{(\\sigma \\sqrt{2 \\pi })^ n} \\exp \\left(-\\frac{1}{2\\sigma^2} \\sum _{i = 1}^ n (x_i-\\mu)^2\\right)$$\n",
    "\n",
    "\n"
   ],
   "id": "6fbd8031fba253f1"
  },
  {
   "metadata": {},
   "cell_type": "markdown",
   "source": "",
   "id": "1eb7363488fd4999"
  }
 ],
 "metadata": {
  "kernelspec": {
   "display_name": "Python 3",
   "language": "python",
   "name": "python3"
  },
  "language_info": {
   "codemirror_mode": {
    "name": "ipython",
    "version": 2
   },
   "file_extension": ".py",
   "mimetype": "text/x-python",
   "name": "python",
   "nbconvert_exporter": "python",
   "pygments_lexer": "ipython2",
   "version": "2.7.6"
  }
 },
 "nbformat": 4,
 "nbformat_minor": 5
}

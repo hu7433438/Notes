{
 "cells": [
  {
   "metadata": {},
   "cell_type": "markdown",
   "source": [
    "# M-estimators\n",
    "## Definition\n",
    "Let $\\, X_1,\\, \\ldots ,\\, X_ n\\,$ be i.i.d. with some unknown distribution $\\, \\mathbf{P}\\,$ and an associated parameter $\\, \\mu ^*\\,$ on a sample space $\\, E.\\, \\,$ We make no modeling assumption that $\\, \\mathbf{P}\\,$ is from any particular family of distributions.\n",
    "\n",
    "An M-estimator $\\widehat{\\mu }$ of the parameter $\\mu ^*$ is the argmin of an estimator of a function $\\, \\mathcal{Q}(\\mu )\\,$ of the parameter which satisfies the following:\n",
    "\n",
    " * $\\displaystyle \\, \\mathcal{Q}(\\mu )\\, =\\, \\mathbb E\\left[\\rho (X,\\mu ) \\right] \\,$for some function $\\, \\rho :E\\times \\mathcal{M}\\to \\mathbb {R},\\,$ where $\\, \\mathcal{M}\\,$ is the set of all possible values of the unknown true parameter $\\mu *$;\n",
    "\n",
    " * $\\displaystyle \\, \\mathcal{Q}(\\mu )\\,$attains a unique minimum at $\\, \\mu =\\mu ^*,\\,$ in $\\, \\mathcal{M}.\\, \\,$ That is, $\\, \\displaystyle \\text {argmin}_{\\mu \\in \\mathcal{M}}\\mathcal{Q}(\\mu ) \\, =\\, \\mu ^*$.\n",
    "\n",
    "In general, the goal is to find the loss function $\\, \\rho \\,$ such that $\\displaystyle \\, \\mathcal{Q}(\\mu )\\, =\\, \\mathbb E\\left[\\rho (X,\\mu ) \\right] \\,$ has the properties stated above.\n",
    "\n",
    "Note that the function $\\rho (X,\\mu )$ is in particular a function of the random variable $\\, X,\\,$ and the expectation in $\\displaystyle \\, \\mathbb E\\left[\\rho (X,\\mu ) \\right] \\,$ is to be taken against the true distribution $\\, \\mathbf{P}\\,$ of $\\, X,\\,$ with associated parameter value $\\, \\mu ^*$.\n",
    "\n",
    "Because $\\, \\mathcal{Q}(\\mu )\\,$ is an expectation, we can construct a (consistent) estimator of $\\, \\mathcal{Q}(\\mu )\\,$ by replacing the expectation in its definition by the sample mean.\n",
    "\n",
    "\n",
    "## Median as a Minimizer\n",
    "## Quantile as a Minimizer\n"
   ],
   "id": "b29f47048126c053"
  },
  {
   "metadata": {},
   "cell_type": "markdown",
   "source": [
    "# Method of Moments\n",
    "Let$X_1,...,X_n$ be an i.i.d. sample associated with a statistical model $(\\mathbb E,(\\mathbf{P}_\\theta) \\theta \\in \\Theta)$.\n",
    "* Assume that $\\mathbb E \\in \\mathbb R$ and $\\mathbb \\Theta \\in \\mathbb R^d$, for some d≥1.\n",
    "* Population moments: Let $m_k(\\theta)=\\mathbb E_θ[X_1^k],1≤k≤d$\n",
    "* Empirical moments: Let $\\hat{m}_k=\\overline{X_n^k}=\\frac{1}{n}\\sum\\limits_{i=1}^n X_i^k,1≤k≤d.$\n",
    "* From LLN, they are consistent estimators$$\\hat{m}_k \\xrightarrow [n \\to \\infty ]{\\mathbf{P}/a.s}m_k(\\theta) $$\n",
    "More compactly, we say that the whole vector converges $$(\\hat{m}_1,...,\\hat{m}_d) \\xrightarrow [n \\to \\infty ]{\\mathbf{P}/a.s} (m_1(θ),...,m_d(θ))$$\n",
    "\n",
    "## Moments estimator\n",
    "Let\n",
    "$$\n",
    "\\begin{align} \n",
    "M:\\theta&\\to \\mathbb R^d\\\\\n",
    "\\theta & \\mapsto M(\\theta)=(m_1(θ),...,m_d(θ))\n",
    "\\end{align}\n",
    "$$\n",
    " \n",
    "Assume $M$ is one to one:$$\\theta=M^{−1}(m_1(\\theta),...,m_d(\\theta))$$\n",
    "\n",
    "Definition: Moments estimator of $\\theta$:$$\\hat{\\theta}_n^{MM}=M^{−1}(\\hat{m}_1,...,\\hat{m}_d)$$\n",
    "\n",
    "provided it exists."
   ],
   "id": "1567fbef71679761"
  }
 ],
 "metadata": {
  "kernelspec": {
   "display_name": "Python 3",
   "language": "python",
   "name": "python3"
  },
  "language_info": {
   "codemirror_mode": {
    "name": "ipython",
    "version": 2
   },
   "file_extension": ".py",
   "mimetype": "text/x-python",
   "name": "python",
   "nbconvert_exporter": "python",
   "pygments_lexer": "ipython2",
   "version": "2.7.6"
  }
 },
 "nbformat": 4,
 "nbformat_minor": 5
}

{
 "cells": [
  {
   "metadata": {},
   "cell_type": "markdown",
   "source": [
    "# Fisher Information\n",
    "## Definition\n",
    "Define the log-likelihood for one observation as:$$\\ell (\\theta ) = \\ln (L_1(X_1, \\theta )) \\qquad \\theta \\in \\Theta \\subset \\mathbb{R}^d$$\n",
    "Assume that $\\ell$ is a.s. twice differentiable. Under some regularity conditions, the Fisher information of the statistical model is defined as\n",
    "$$\\mathcal{I}(\\theta ) = {var}[\\ell ^{\\prime }(\\theta )] = -\\mathbb {E}[\\ell ^{\\prime \\prime }(\\theta )]$$\n",
    "\n",
    "## Asymptotic Normality of the MLE\n",
    "Theorem:\n",
    "\n",
    "Let $\\theta^∗ \\in \\Theta$ (the true parameter). Assume the following:\n",
    "\n",
    "1. The parameter is identifiable.\n",
    "2. For all $\\theta \\in \\Theta$, the support of $\\mathbb {P}_\\theta$ does not depend on $\\Theta$.\n",
    "3. $\\theta^∗$ Is not on the boundary of $\\Theta$.\n",
    "4. $I(\\theta)$ Is invertible in a neighborhood of $\\theta^∗$.\n",
    "5. A few more technical conditions.\n",
    "\n",
    "\n",
    "Then $\\hat{\\theta _ n}^{MLE}$ satisfies\n",
    "* $\\hat{\\theta _ n}^{MLE} \\xrightarrow [n \\to \\infty ]{(d)} \\theta^∗ \\ w.r.t \\  \\mathbb {P}_{\\theta^*}$\n",
    "* $\\sqrt{n}(\\widehat{\\theta }_ n^{\\text {MLE}} - \\theta ^*) \\xrightarrow [n \\to \\infty ]{(d)} \\mathcal{N}\\left(0, \\mathcal{I}(\\theta ^*)^{-1}\\right) \\ w.r.t \\  \\mathbb {P}_{\\theta^*}$\n"
   ],
   "id": "6871959e94f6abc7"
  },
  {
   "metadata": {},
   "cell_type": "markdown",
   "source": "",
   "id": "74f79cc65e0d5463"
  }
 ],
 "metadata": {
  "kernelspec": {
   "display_name": "Python 3",
   "language": "python",
   "name": "python3"
  },
  "language_info": {
   "codemirror_mode": {
    "name": "ipython",
    "version": 2
   },
   "file_extension": ".py",
   "mimetype": "text/x-python",
   "name": "python",
   "nbconvert_exporter": "python",
   "pygments_lexer": "ipython2",
   "version": "2.7.6"
  }
 },
 "nbformat": 4,
 "nbformat_minor": 5
}
